{
 "cells": [
  {
   "cell_type": "markdown",
   "metadata": {},
   "source": [
    "# The Extended Kalman Filter\n",
    "선형 칼만 필터 (Linear Kalman Filter)에 대한 이론을 바탕으로 비선형 문제에 칼만 필터를 적용해 보겟습니다. EKF 는 현재의 추정 시점에 대해 시스템을 선형화하여 비선형성 (non-linearity) 을 처리한 후 선형 칼만 필터를 사용하는 기법입니다."
   ]
  },
  {
   "cell_type": "code",
   "execution_count": null,
   "metadata": {},
   "outputs": [],
   "source": [
    "%matplotlib inline"
   ]
  },
  {
   "cell_type": "markdown",
   "metadata": {},
   "source": [
    "## Linearizing the Kalman Filter\n",
    "칼만 필터는 선형 방정식을 사용하므로 비선형 문제에는 직접적으로 적용하지 못합니다. 비선형성은 두가지 원인에서 기인될수 있습니다. 첫째, 프로세스 모델의 비선형성. 예를 들어, 떨어지는 물체의 가속도는 속도의 제곱에 비례하는 공기저항에 의해 결정되기 때문에 비선형적인 프로세스 모델을 가집니다. 둘째, 측정의 비선형성. 레이더로 목표물의 범위와 방위 (bearing) 를 측정할때, 비선형함수인 삼각함수를 사용하여 표적의 위치를 계산하기 때문에 비선형적인 측정 모델을 가지게 됩니다.\n",
    "\n",
    "선형 칼만 필터의 경우 프로세스 및 측정 모델은 다음과 같이 나타낼수 있습니다.\n",
    "\n",
    "$$\\begin{aligned}\\dot{\\mathbf x} &= \\mathbf{Ax} + w_x\\\\\n",
    "\\mathbf z &= \\mathbf{Hx} + w_z\n",
    "\\end{aligned}$$\n",
    "\n",
    "이때 $\\mathbf A$ 는 (연속시간에서) 시스템의 역학을 묘사하는 dynamic matrix 입니다. 위의 식을 이산화(discretize)시키면 아래와 같이 나타내줄 수 있습니다. \n",
    "$$\\begin{aligned}\\bar{\\mathbf x} &= \\mathbf{Fx} \\\\\n",
    "\\mathbf z &= \\mathbf{Hx}\n",
    "\\end{aligned}$$\n",
    "\n",
    "이때 $\\mathbf F$ 는 이산시간 $\\Delta t$ 에 걸쳐 $\\mathbf x_{k-1}$을 $\\mathbf x_{k}$ 로 전환하는 상태변환행렬/상태전달함수 (state transition matrix) 이고, 위에서의 $w_x$ 와 $w_z$는 각각 공분산 행렬 $\\mathbf R$ 과 프로세스 노이즈 공분산 행렬 $\\mathbf Q$ 에 포함됩니다.\n",
    "\n",
    "선형 시스템에서의 $\\mathbf F \\mathbf x- \\mathbf B \\mathbf u$ 와 $\\mathbf H \\mathbf x$ 는 비선형 시스템에서 함수 $f(\\mathbf x, \\mathbf u)$ 와 $h(\\mathbf x)$ 로 대체됩니다.\n",
    "\n",
    "$$\\begin{aligned}\\dot{\\mathbf x} &= f(\\mathbf x, \\mathbf u) + w_x\\\\\n",
    "\\mathbf z &= h(\\mathbf x) + w_z\n",
    "\\end{aligned}$$\n",
    "\n",
    "위의 식들을 해결해주는 새로운 칼만 필터 방정식 세트를 찾을수 있을것이라 생각할수 있겠지만(?) 비선형 함수에 가우스 분포를 대입하면 더 이상 가우스가 아닌 확률 분포가 생성되기 때문에 이 방법을 사용할수 없습니다.\n",
    "\n",
    "EKF는 현재 추정시점에 대해 선형화하여 위와 같은 문제를 해결하게 됩니다. 선형화란 말그대로 하나의 시점에 대하여 비선형함수에 가장 가까운 선 (선형시스템) 을 찾는것이라 볼수 있습니다.\n",
    "\n",
    "$$\n",
    "\\begin{aligned}\n",
    "\\mathbf F \n",
    "&= {\\frac{\\partial{f(\\mathbf x_t, \\mathbf u_t)}}{\\partial{\\mathbf x}}}\\biggr|_{{\\mathbf x_t},{\\mathbf u_t}} \\\\\n",
    "\\mathbf H &= \\frac{\\partial{h(\\bar{\\mathbf x}_t)}}{\\partial{\\bar{\\mathbf x}}}\\biggr|_{\\bar{\\mathbf x}_t} \n",
    "\\end{aligned}\n",
    "$$\n",
    "\n",
    "Linear Kalman Filter 와 Extended Kalman Filter 의 식들을 다음과 같이 나타냅니다.\n",
    "\n",
    "$$\\begin{array}{l|l}\n",
    "\\text{linear Kalman filter} & \\text{EKF} \\\\\n",
    "\\hline \n",
    "& \\boxed{\\mathbf F = {\\frac{\\partial{f(\\mathbf x_t, \\mathbf u_t)}}{\\partial{\\mathbf x}}}\\biggr|_{{\\mathbf x_t},{\\mathbf u_t}}} \\\\\n",
    "\\mathbf{\\bar x} = \\mathbf{Fx} + \\mathbf{Bu} & \\boxed{\\mathbf{\\bar x} = f(\\mathbf x, \\mathbf u)}  \\\\\n",
    "\\mathbf{\\bar P} = \\mathbf{FPF}^\\mathsf{T}+\\mathbf Q  & \\mathbf{\\bar P} = \\mathbf{FPF}^\\mathsf{T}+\\mathbf Q \\\\\n",
    "\\hline\n",
    "& \\boxed{\\mathbf H = \\frac{\\partial{h(\\bar{\\mathbf x}_t)}}{\\partial{\\bar{\\mathbf x}}}\\biggr|_{\\bar{\\mathbf x}_t}} \\\\\n",
    "\\textbf{y} = \\mathbf z - \\mathbf{H \\bar{x}} & \\textbf{y} = \\mathbf z - \\boxed{h(\\bar{x})}\\\\\n",
    "\\mathbf{K} = \\mathbf{\\bar{P}H}^\\mathsf{T} (\\mathbf{H\\bar{P}H}^\\mathsf{T} + \\mathbf R)^{-1} & \\mathbf{K} = \\mathbf{\\bar{P}H}^\\mathsf{T} (\\mathbf{H\\bar{P}H}^\\mathsf{T} + \\mathbf R)^{-1} \\\\\n",
    "\\mathbf x=\\mathbf{\\bar{x}} +\\mathbf{K\\textbf{y}} & \\mathbf x=\\mathbf{\\bar{x}} +\\mathbf{K\\textbf{y}} \\\\\n",
    "\\mathbf P= (\\mathbf{I}-\\mathbf{KH})\\mathbf{\\bar{P}} & \\mathbf P= (\\mathbf{I}-\\mathbf{KH})\\mathbf{\\bar{P}}\n",
    "\\end{array}$$\n",
    "\n",
    "$\\mathbf F \\mathbf x_{k-1}$ 을 사용하여 $\\mathbf x_{k}$의 값을 추정할수 있겠지만, 선형화 과정에서 오차가 생길수 있기 때문에 Euler 또는 Runge Kutta 수치 적분 (numerical integration) 을 통해서 사전추정값 $\\mathbf{H\\bar{x}}$ 를 구합니다. 같은 이유로 $\\mathbf y$ (innovation vector 또는 잔차/residual) 를 구할때도 $\\mathbf H \\mathbf x$ 대신에 수치적인 방법으로 계산하게 됩니다."
   ]
  },
  {
   "cell_type": "code",
   "execution_count": null,
   "metadata": {},
   "outputs": [],
   "source": []
  }
 ],
 "metadata": {
  "kernelspec": {
   "display_name": "Python 3",
   "language": "python",
   "name": "python3"
  },
  "language_info": {
   "codemirror_mode": {
    "name": "ipython",
    "version": 3
   },
   "file_extension": ".py",
   "mimetype": "text/x-python",
   "name": "python",
   "nbconvert_exporter": "python",
   "pygments_lexer": "ipython3",
   "version": "3.7.4"
  }
 },
 "nbformat": 4,
 "nbformat_minor": 2
}
