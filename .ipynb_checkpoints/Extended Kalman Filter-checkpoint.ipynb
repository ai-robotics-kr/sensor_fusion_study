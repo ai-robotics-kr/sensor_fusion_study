{
 "cells": [
  {
   "cell_type": "markdown",
   "metadata": {},
   "source": [
    "# The Extended Kalman Filter\n",
    "\n",
    "선형 칼만 필터 (Linear Kalman Filter)에 대한 이론을 바탕으로 비선형 문제에 칼만 필터를 적용해 보겠습니다. 확장칼만필터 (EKF)는 예측단계와 추정단계의 데이터를 비선형으로 가정하고 현재의 추정값에 대해 시스템을 선형화 한뒤 선형 칼만 필터를 사용하는 기법입니다.\n",
    "\n",
    "비선형 문제에 적용되는 성능이 더 좋은 알고리즘들 (UKF, H_infinity)이 있지만 EKF 는 아직도 널리 사용되서 관련성이 높습니다."
   ]
  },
  {
   "cell_type": "code",
   "execution_count": 2,
   "metadata": {},
   "outputs": [],
   "source": [
    "%matplotlib inline\n",
    "# HTML(\"\"\"\n",
    "# <style>\n",
    "# .output_png {\n",
    "#     display: table-cell;\n",
    "#     text-align: center;\n",
    "#     vertical-align: middle;\n",
    "# }\n",
    "# </style>\n",
    "# \"\"\")"
   ]
  },
  {
   "cell_type": "markdown",
   "metadata": {},
   "source": [
    "## Linearizing the Kalman Filter\n",
    "\n",
    "### Non-linear models\n",
    "칼만 필터는 시스템이 선형일것이라는 가정을 하기 때문에 비선형 문제에는 직접적으로 사용하지 못합니다. 비선형성은 두가지 원인에서 기인될수 있는데 첫째는 프로세스 모델의 비선형성 그리고 둘째 측정 모델의 비선형성입니다. 예를 들어, 떨어지는 물체의 가속도는 속도의 제곱에 비례하는 공기저항에 의해 결정되기 때문에 비선형적인 프로세스 모델을 가지고, 레이더로 목표물의 범위와 방위 (bearing) 를 측정할때 비선형함수인 삼각함수를 사용하여 표적의 위치를 계산하기 때문에 비선형적인 측정 모델을 가지게 됩니다.\n",
    "\n",
    "비선형문제에 기존의 칼만필터 방정식을 적용하지 못하는 이유는 비선형함수에 정규분포 (Gaussian)를 입력하면 아래와 같이 Gaussian 이 아닌 분포를 가지게 되기 때문입니다. "
   ]
  },
  {
   "cell_type": "code",
   "execution_count": 3,
   "metadata": {},
   "outputs": [
    {
     "ename": "NameError",
     "evalue": "name 'mu' is not defined",
     "output_type": "error",
     "traceback": [
      "\u001b[0;31m---------------------------------------------------------------------------\u001b[0m",
      "\u001b[0;31mNameError\u001b[0m                                 Traceback (most recent call last)",
      "\u001b[0;32m<ipython-input-3-790a9709ff23>\u001b[0m in \u001b[0;36m<module>\u001b[0;34m\u001b[0m\n\u001b[1;32m      3\u001b[0m \u001b[0;32mimport\u001b[0m \u001b[0mmatplotlib\u001b[0m\u001b[0;34m.\u001b[0m\u001b[0mpyplot\u001b[0m \u001b[0;32mas\u001b[0m \u001b[0mplt\u001b[0m\u001b[0;34m\u001b[0m\u001b[0;34m\u001b[0m\u001b[0m\n\u001b[1;32m      4\u001b[0m \u001b[0;34m\u001b[0m\u001b[0m\n\u001b[0;32m----> 5\u001b[0;31m \u001b[0mx\u001b[0m \u001b[0;34m=\u001b[0m \u001b[0mnp\u001b[0m\u001b[0;34m.\u001b[0m\u001b[0mlinspace\u001b[0m\u001b[0;34m(\u001b[0m\u001b[0mmu\u001b[0m \u001b[0;34m-\u001b[0m \u001b[0;36m3\u001b[0m\u001b[0;34m*\u001b[0m\u001b[0msigma\u001b[0m\u001b[0;34m,\u001b[0m \u001b[0mmu\u001b[0m \u001b[0;34m+\u001b[0m \u001b[0;36m3\u001b[0m\u001b[0;34m*\u001b[0m\u001b[0msigma\u001b[0m\u001b[0;34m,\u001b[0m \u001b[0;36m10000\u001b[0m\u001b[0;34m)\u001b[0m\u001b[0;34m\u001b[0m\u001b[0;34m\u001b[0m\u001b[0m\n\u001b[0m\u001b[1;32m      6\u001b[0m \u001b[0;34m\u001b[0m\u001b[0m\n\u001b[1;32m      7\u001b[0m \u001b[0mmu\u001b[0m\u001b[0;34m,\u001b[0m \u001b[0msigma\u001b[0m \u001b[0;34m=\u001b[0m \u001b[0;36m0\u001b[0m\u001b[0;34m,\u001b[0m \u001b[0;36m0.1\u001b[0m\u001b[0;34m\u001b[0m\u001b[0;34m\u001b[0m\u001b[0m\n",
      "\u001b[0;31mNameError\u001b[0m: name 'mu' is not defined"
     ]
    }
   ],
   "source": [
    "import numpy as np\n",
    "import scipy.stats as stats\n",
    "import matplotlib.pyplot as plt\n",
    "\n",
    "mu, sigma = 0, 0.1\n",
    "gaussian = stats.norm.pdf(x, mu, sigma)\n",
    "\n",
    "x = np.linspace(mu - 3*sigma, mu + 3*sigma, 10000)\n",
    "\n",
    "def nonlinearFunction(x):\n",
    "    return np.sin(x)\n",
    "\n",
    "def linearFunction(x):\n",
    "    return 0.5*x\n",
    "\n",
    "nonlinearOutput = nonlinearFunction(gaussian)\n",
    "linearOutput = linearFunction(gaussian)\n",
    "\n",
    "# print(x)    \n",
    "    \n",
    "plt.plot(x, gaussian, label = 'Gaussian Input')\n",
    "plt.plot(x, linearOutput, label = 'Linear Output')\n",
    "plt.plot(x, nonlinearOutput, label = 'Nonlinear Output')\n",
    "\n",
    "plt.grid(linestyle='dotted', linewidth=0.8)\n",
    "plt.legend()\n",
    "plt.show()"
   ]
  },
  {
   "cell_type": "markdown",
   "metadata": {},
   "source": [
    "### System Equations\n",
    "선형 칼만 필터의 경우 프로세스 및 측정 모델은 다음과 같이 나타낼수 있습니다.\n",
    "\n",
    "$$\\begin{aligned}\\dot{\\mathbf x} &= \\mathbf{Ax} + w_x\\\\\n",
    "\\mathbf z &= \\mathbf{Hx} + w_z\n",
    "\\end{aligned}$$\n",
    "\n",
    "이때 $\\mathbf A$ 는 (연속시간에서) 시스템의 역학을 묘사하는 dynamic matrix 입니다. 위의 식을 이산화(discretize)시키면 아래와 같이 나타내줄 수 있습니다. \n",
    "\n",
    "$$\\begin{aligned}\\bar{\\mathbf x}_k &= \\mathbf{F} \\mathbf{x}_{k-1} \\\\\n",
    "\\bar{\\mathbf z} &= \\mathbf{H} \\mathbf{x}_{k-1}\n",
    "\\end{aligned}$$\n",
    "\n",
    "이때 $\\mathbf F$ 는 이산시간 $\\Delta t$ 에 걸쳐 $\\mathbf x_{k-1}$을 $\\mathbf x_{k}$ 로 전환하는 상태변환행렬 또는 상태전달함수 (state transition matrix) 이고, 위에서의 $w_x$ 와 $w_z$는 각각 프로세스 노이즈 공분산 행렬 $\\mathbf Q$ 과 측정 노이즈 공분산 행렬 $\\mathbf R$ 에 포함됩니다.\n",
    "\n",
    "선형 시스템에서의 $\\mathbf F \\mathbf x- \\mathbf B \\mathbf u$ 와 $\\mathbf H \\mathbf x$ 는 비선형 시스템에서 함수 $f(\\mathbf x, \\mathbf u)$ 와 $h(\\mathbf x)$ 로 대체됩니다.\n",
    "\n",
    "$$\\begin{aligned}\\dot{\\mathbf x} &= f(\\mathbf x, \\mathbf u) + w_x\\\\\n",
    "\\mathbf z &= h(\\mathbf x) + w_z\n",
    "\\end{aligned}$$"
   ]
  },
  {
   "cell_type": "markdown",
   "metadata": {},
   "source": [
    "### Linearisation\n",
    "선형화란 말그대로 하나의 시점에 대하여 비선형함수에 가장 가까운 선 (선형시스템) 을 찾는것이라고 볼수 있습니다. 여러가지 방법으로 선형화를 할수 있겠지만 흔히 일차 테일러 급수를 사용합니다. ($ c_0$ 과 $c_1 x$)\n",
    "\n",
    "$$f(x) = \\sum_{k=0}^\\infty c_k x^k = c_0 + c_1 x + c_2 x^2 + \\dotsb$$\n",
    "$$c_k = \\frac{f^{\\left(k\\right)}(0)}{k!} = \\frac{1}{k!} \\cdot \\frac{d^k f}{dx^k}\\bigg|_0 $$\n",
    "\n",
    "행렬의 미분값을 Jacobian 이라고 하는데 이를 통해서 위와 같이 $\\mathbf F$ 와 $\\mathbf H$ 를 나타낼 수 있습니다.\n",
    "\n",
    "$$\n",
    "\\begin{aligned}\n",
    "\\mathbf F \n",
    "= {\\frac{\\partial{f(\\mathbf x_t, \\mathbf u_t)}}{\\partial{\\mathbf x}}}\\biggr|_{{\\mathbf x_t},{\\mathbf u_t}} \\;\\;\\;\\;\n",
    "\\mathbf H = \\frac{\\partial{h(\\bar{\\mathbf x}_t)}}{\\partial{\\bar{\\mathbf x}}}\\biggr|_{\\bar{\\mathbf x}_t} \n",
    "\\end{aligned}\n",
    "$$\n",
    "\n",
    "$$\\mathbf F = \\frac{\\partial f(\\mathbf x, \\mathbf u)}{\\partial x} =\\begin{bmatrix}\n",
    "\\frac{\\partial f_1}{\\partial x_1} & \\frac{\\partial f_1}{\\partial x_2} & \\dots & \\frac{\\partial f_1}{\\partial x_n}\\\\\n",
    "\\frac{\\partial f_2}{\\partial x_1} & \\frac{\\partial f_2}{\\partial x_2} & \\dots & \\frac{\\partial f_2}{\\partial x_n} \\\\\n",
    "\\\\ \\vdots & \\vdots & \\ddots & \\vdots\n",
    "\\\\\n",
    "\\frac{\\partial f_n}{\\partial x_1} & \\frac{\\partial f_n}{\\partial x_2} & \\dots & \\frac{\\partial f_n}{\\partial x_n}\n",
    "\\end{bmatrix}\n",
    "$$\n",
    "\n",
    "Linear Kalman Filter 와 Extended Kalman Filter 의 식들을 아래와 같이 비교할수 있습니다.\n",
    "\n",
    "$$\\begin{array}{l|l}\n",
    "\\text{Linear Kalman filter} & \\text{EKF} \\\\\n",
    "\\hline \n",
    "& \\boxed{\\mathbf F = {\\frac{\\partial{f(\\mathbf x_t, \\mathbf u_t)}}{\\partial{\\mathbf x}}}\\biggr|_{{\\mathbf x_t},{\\mathbf u_t}}} \\\\\n",
    "\\mathbf{\\bar x} = \\mathbf{Fx} + \\mathbf{Bu} & \\boxed{\\mathbf{\\bar x} = f(\\mathbf x, \\mathbf u)}  \\\\\n",
    "\\mathbf{\\bar P} = \\mathbf{FPF}^\\mathsf{T}+\\mathbf Q  & \\mathbf{\\bar P} = \\mathbf{FPF}^\\mathsf{T}+\\mathbf Q \\\\\n",
    "\\hline\n",
    "& \\boxed{\\mathbf H = \\frac{\\partial{h(\\bar{\\mathbf x}_t)}}{\\partial{\\bar{\\mathbf x}}}\\biggr|_{\\bar{\\mathbf x}_t}} \\\\\n",
    "\\textbf{y} = \\mathbf z - \\mathbf{H \\bar{x}} & \\textbf{y} = \\mathbf z - \\boxed{h(\\bar{x})}\\\\\n",
    "\\mathbf{K} = \\mathbf{\\bar{P}H}^\\mathsf{T} (\\mathbf{H\\bar{P}H}^\\mathsf{T} + \\mathbf R)^{-1} & \\mathbf{K} = \\mathbf{\\bar{P}H}^\\mathsf{T} (\\mathbf{H\\bar{P}H}^\\mathsf{T} + \\mathbf R)^{-1} \\\\\n",
    "\\mathbf x=\\mathbf{\\bar{x}} +\\mathbf{K\\textbf{y}} & \\mathbf x=\\mathbf{\\bar{x}} +\\mathbf{K\\textbf{y}} \\\\\n",
    "\\mathbf P= (\\mathbf{I}-\\mathbf{KH})\\mathbf{\\bar{P}} & \\mathbf P= (\\mathbf{I}-\\mathbf{KH})\\mathbf{\\bar{P}}\n",
    "\\end{array}$$\n",
    "\n",
    "$\\mathbf F \\mathbf x_{k-1}$ 을 사용하여 $\\mathbf x_{k}$의 값을 추정할수 있겠지만, 선형화 과정에서 오차가 생길수 있기 때문에 Euler 또는 Runge Kutta 수치 적분 (numerical integration) 을 통해서 사전추정값 $\\mathbf{\\bar{x}}$ 를 구합니다. 같은 이유로 $\\mathbf y$ (innovation vector 또는 잔차(residual)) 를 구할때도 $\\mathbf H \\mathbf x$ 대신에 수치적인 방법으로 계산하게 됩니다."
   ]
  },
  {
   "cell_type": "markdown",
   "metadata": {},
   "source": [
    "## Example: Robot Localization\n",
    "\n",
    "### Prediction Model (예측모델)\n",
    "EKF를 4륜 로봇에 적용시켜 보겠습니다. 간단한 bicycle steering model 을 통해 아래의 시스템 모델을 나타낼 수 있습니다."
   ]
  },
  {
   "cell_type": "code",
   "execution_count": null,
   "metadata": {},
   "outputs": [],
   "source": [
    "import kf_book.ekf_internal as ekf_internal\n",
    "ekf_internal.plot_bicycle()"
   ]
  },
  {
   "cell_type": "markdown",
   "metadata": {},
   "source": [
    "$$\\begin{aligned} \n",
    "\\beta &= \\frac d w \\tan(\\alpha) \\\\\n",
    "\\bar x_k &= x_{k-1} - R\\sin(\\theta) + R\\sin(\\theta + \\beta) \\\\\n",
    "\\bar y_k &= y_{k-1} + R\\cos(\\theta) - R\\cos(\\theta + \\beta) \\\\\n",
    "\\bar \\theta_k &= \\theta_{k-1} + \\beta\n",
    "\\end{aligned}\n",
    "$$"
   ]
  },
  {
   "cell_type": "markdown",
   "metadata": {},
   "source": [
    "위의 식들을 토대로 상태벡터를 $\\mathbf{x}=[x, y, \\theta]^T$ 그리고 입력벡터를 $\\mathbf{u}=[v, \\alpha]^T$ 라고 정의 해주면 아래와 같이 $f(\\mathbf x, \\mathbf u)$ 나타내줄수 있고 $f$ 의 Jacobian $\\mathbf F$를 미분하여 아래의 행렬을 구해줄수 있습니다.\n",
    "\n",
    "$$\\bar x = f(x, u) + \\mathcal{N}(0, Q)$$\n",
    "\n",
    "$$f = \\begin{bmatrix}x\\\\y\\\\\\theta\\end{bmatrix} + \n",
    "\\begin{bmatrix}- R\\sin(\\theta) + R\\sin(\\theta + \\beta) \\\\\n",
    "R\\cos(\\theta) - R\\cos(\\theta + \\beta) \\\\\n",
    "\\beta\\end{bmatrix}$$\n",
    "\n",
    "$$\\mathbf F = \\frac{\\partial f(\\mathbf x, \\mathbf u)}{\\partial \\mathbf x} = \\begin{bmatrix}\n",
    "1 & 0 & -R\\cos(\\theta) + R\\cos(\\theta+\\beta) \\\\\n",
    "0 & 1 & -R\\sin(\\theta) + R\\sin(\\theta+\\beta) \\\\\n",
    "0 & 0 & 1\n",
    "\\end{bmatrix}$$"
   ]
  },
  {
   "cell_type": "markdown",
   "metadata": {},
   "source": [
    "$\\bar{\\mathbf P}$ 을 구하기 위해 입력($\\mathbf u$)에서 비롯되는 프로세스 노이즈 $\\mathbf Q$ 를 아래와 같이 정의합니다.\n",
    "\n",
    "$$\\mathbf{M} = \\begin{bmatrix}\\sigma_{vel}^2 & 0 \\\\ 0 & \\sigma_\\alpha^2\\end{bmatrix}\n",
    "\\;\\;\\;\\;\n",
    "\\mathbf{V} = \\frac{\\partial f(x, u)}{\\partial u} \\begin{bmatrix}\n",
    "\\frac{\\partial f_1}{\\partial v} & \\frac{\\partial f_1}{\\partial \\alpha} \\\\\n",
    "\\frac{\\partial f_2}{\\partial v} & \\frac{\\partial f_2}{\\partial \\alpha} \\\\\n",
    "\\frac{\\partial f_3}{\\partial v} & \\frac{\\partial f_3}{\\partial \\alpha}\n",
    "\\end{bmatrix}$$\n",
    "\n",
    "$$\\mathbf{\\bar P} =\\mathbf{FPF}^{\\mathsf T} + \\mathbf{VMV}^{\\mathsf T}$$\n"
   ]
  },
  {
   "cell_type": "code",
   "execution_count": null,
   "metadata": {},
   "outputs": [],
   "source": [
    "import sympy\n",
    "from sympy.abc import alpha, x, y, v, w, R, theta\n",
    "from sympy import symbols, Matrix\n",
    "sympy.init_printing(use_latex=\"mathjax\", fontsize='16pt')\n",
    "time = symbols('t')\n",
    "d = v*time\n",
    "beta = (d/w)*sympy.tan(alpha)\n",
    "r = w/sympy.tan(alpha)\n",
    "\n",
    "fxu = Matrix([[x-r*sympy.sin(theta) + r*sympy.sin(theta+beta)],\n",
    "              [y+r*sympy.cos(theta)- r*sympy.cos(theta+beta)],\n",
    "              [theta+beta]])\n",
    "F = fxu.jacobian(Matrix([x, y, theta]))\n",
    "F"
   ]
  },
  {
   "cell_type": "code",
   "execution_count": null,
   "metadata": {},
   "outputs": [],
   "source": [
    "# reduce common expressions\n",
    "B, R = symbols('beta, R')\n",
    "F = F.subs((d/w)*sympy.tan(alpha), B)\n",
    "F.subs(w/sympy.tan(alpha), R)"
   ]
  },
  {
   "cell_type": "code",
   "execution_count": null,
   "metadata": {},
   "outputs": [],
   "source": [
    "V = fxu.jacobian(Matrix([v, alpha]))\n",
    "V = V.subs(sympy.tan(alpha)/w, 1/R) \n",
    "V = V.subs(time*v/R, B)\n",
    "V = V.subs(time*v, 'd')\n",
    "V"
   ]
  },
  {
   "cell_type": "markdown",
   "metadata": {},
   "source": [
    "### Measurement Model (측정모델)\n",
    "\n",
    "레이더로 범위$(r)$와 방위($\\phi$)를 측정할때 다음과 같은 센서모델을 사용합니다. 이때 $\\mathbf p$ 는 landmark의 위치를 나타내줍니다.\n",
    "\n",
    "$$r = \\sqrt{(p_x - x)^2 + (p_y - y)^2}\n",
    "\\;\\;\\;\\;\n",
    "\\phi = \\arctan(\\frac{p_y - y}{p_x - x}) - \\theta\n",
    "$$\n",
    "\n",
    "$$\\begin{aligned}\n",
    "\\mathbf z& = h(\\bar{\\mathbf x}, \\mathbf p) &+ \\mathcal{N}(0, R)\\\\\n",
    "&= \\begin{bmatrix}\n",
    "\\sqrt{(p_x - x)^2 + (p_y - y)^2} \\\\\n",
    "\\arctan(\\frac{p_y - y}{p_x - x}) - \\theta \n",
    "\\end{bmatrix} &+ \\mathcal{N}(0, R)\n",
    "\\end{aligned}$$\n",
    "\n",
    "$h$ 의 Jacobian $\\mathbf H$를 미분하여 아래의 행렬을 구해줄수 있습니다.\n",
    "$$\\mathbf H = \\frac{\\partial h(\\mathbf x, \\mathbf u)}{\\partial \\mathbf x} =\n",
    "\\left[\\begin{matrix}\\frac{- p_{x} + x}{\\sqrt{\\left(p_{x} - x\\right)^{2} + \\left(p_{y} - y\\right)^{2}}} & \\frac{- p_{y} + y}{\\sqrt{\\left(p_{x} - x\\right)^{2} + \\left(p_{y} - y\\right)^{2}}} & 0\\\\- \\frac{- p_{y} + y}{\\left(p_{x} - x\\right)^{2} + \\left(p_{y} - y\\right)^{2}} & - \\frac{p_{x} - x}{\\left(p_{x} - x\\right)^{2} + \\left(p_{y} - y\\right)^{2}} & -1\\end{matrix}\\right]\n",
    "$$"
   ]
  },
  {
   "cell_type": "code",
   "execution_count": null,
   "metadata": {},
   "outputs": [],
   "source": [
    "import sympy\n",
    "from sympy.abc import alpha, x, y, v, w, R, theta\n",
    "\n",
    "px, py = sympy.symbols('p_x, p_y')\n",
    "z = sympy.Matrix([[sympy.sqrt((px-x)**2 + (py-y)**2)],\n",
    "            [sympy.atan2(py-y, px-x) - theta]])\n",
    "z.jacobian(sympy.Matrix([x, y, theta]))\n",
    "\n",
    "# print(sympy.latex(z.jacobian(sympy.Matrix([x, y, theta])))"
   ]
  },
  {
   "cell_type": "code",
   "execution_count": null,
   "metadata": {},
   "outputs": [],
   "source": [
    "from math import sqrt\n",
    "\n",
    "def H_of(x, landmark_pos):\n",
    "    \"\"\" compute Jacobian of H matrix where h(x) computes \n",
    "    the range and bearing to a landmark for state x \"\"\"\n",
    "\n",
    "    px = landmark_pos[0]\n",
    "    py = landmark_pos[1]\n",
    "    hyp = (px - x[0, 0])**2 + (py - x[1, 0])**2\n",
    "    dist = sqrt(hyp)\n",
    "\n",
    "    H = array(\n",
    "        [[-(px - x[0, 0]) / dist, -(py - x[1, 0]) / dist, 0],\n",
    "         [ (py - x[1, 0]) / hyp,  -(px - x[0, 0]) / hyp, -1]])\n",
    "    return H"
   ]
  },
  {
   "cell_type": "code",
   "execution_count": null,
   "metadata": {},
   "outputs": [],
   "source": [
    "from math import atan2\n",
    "\n",
    "def Hx(x, landmark_pos):\n",
    "    \"\"\" takes a state variable and returns the measurement\n",
    "    that would correspond to that state.\n",
    "    \"\"\"\n",
    "    px = landmark_pos[0]\n",
    "    py = landmark_pos[1]\n",
    "    dist = sqrt((px - x[0, 0])**2 + (py - x[1, 0])**2)\n",
    "\n",
    "    Hx = array([[dist],\n",
    "                [atan2(py - x[1, 0], px - x[0, 0]) - x[2, 0]]])\n",
    "    return Hx"
   ]
  },
  {
   "cell_type": "markdown",
   "metadata": {},
   "source": [
    "측정 노이즈는 다음과 같이 나타내줍니다.\n",
    "$$\\mathbf R=\\begin{bmatrix}\\sigma_{range}^2 & 0 \\\\ 0 & \\sigma_{bearing}^2\\end{bmatrix}$$"
   ]
  },
  {
   "cell_type": "markdown",
   "metadata": {},
   "source": [
    "### Implementation\n",
    "\n",
    "`FilterPy` 의 `ExtendedKalmanFilter` class 를 활용해서 EKF 를 구현해보도록 하겠습니다."
   ]
  },
  {
   "cell_type": "code",
   "execution_count": null,
   "metadata": {},
   "outputs": [],
   "source": [
    "from filterpy.kalman import ExtendedKalmanFilter as EKF\n",
    "from numpy import array, sqrt, random\n",
    "import sympy\n",
    "\n",
    "class RobotEKF(EKF):\n",
    "    def __init__(self, dt, wheelbase, std_vel, std_steer):\n",
    "        EKF.__init__(self, 3, 2, 2)\n",
    "        self.dt = dt\n",
    "        self.wheelbase = wheelbase\n",
    "        self.std_vel = std_vel\n",
    "        self.std_steer = std_steer\n",
    "\n",
    "        a, x, y, v, w, theta, time = sympy.symbols(\n",
    "            'a, x, y, v, w, theta, t')\n",
    "        d = v*time\n",
    "        beta = (d/w)*sympy.tan(a)\n",
    "        r = w/sympy.tan(a)\n",
    "    \n",
    "        self.fxu = sympy.Matrix(\n",
    "            [[x-r*sympy.sin(theta)+r*sympy.sin(theta+beta)],\n",
    "             [y+r*sympy.cos(theta)-r*sympy.cos(theta+beta)],\n",
    "             [theta+beta]])\n",
    "\n",
    "        self.F_j = self.fxu.jacobian(sympy.Matrix([x, y, theta]))\n",
    "        self.V_j = self.fxu.jacobian(sympy.Matrix([v, a]))\n",
    "\n",
    "        # save dictionary and it's variables for later use\n",
    "        self.subs = {x: 0, y: 0, v:0, a:0, \n",
    "                     time:dt, w:wheelbase, theta:0}\n",
    "        self.x_x, self.x_y, = x, y \n",
    "        self.v, self.a, self.theta = v, a, theta\n",
    "\n",
    "    def predict(self, u):\n",
    "        self.x = self.move(self.x, u, self.dt)\n",
    "\n",
    "        self.subs[self.theta] = self.x[2, 0]\n",
    "        self.subs[self.v] = u[0]\n",
    "        self.subs[self.a] = u[1]\n",
    "\n",
    "        F = array(self.F_j.evalf(subs=self.subs)).astype(float)\n",
    "        V = array(self.V_j.evalf(subs=self.subs)).astype(float)\n",
    "\n",
    "        # covariance of motion noise in control space\n",
    "        M = array([[self.std_vel*u[0]**2, 0], \n",
    "                   [0, self.std_steer**2]])\n",
    "\n",
    "        self.P = F @ self.P @ F.T + V @ M @ V.T\n",
    "\n",
    "    def move(self, x, u, dt):\n",
    "        hdg = x[2, 0]\n",
    "        vel = u[0]\n",
    "        steering_angle = u[1]\n",
    "        dist = vel * dt\n",
    "\n",
    "        if abs(steering_angle) > 0.001: # is robot turning?\n",
    "            beta = (dist / self.wheelbase) * tan(steering_angle)\n",
    "            r = self.wheelbase / tan(steering_angle) # radius\n",
    "\n",
    "            dx = np.array([[-r*sin(hdg) + r*sin(hdg + beta)], \n",
    "                           [r*cos(hdg) - r*cos(hdg + beta)], \n",
    "                           [beta]])\n",
    "        else: # moving in straight line\n",
    "            dx = np.array([[dist*cos(hdg)], \n",
    "                           [dist*sin(hdg)], \n",
    "                           [0]])\n",
    "        return x + dx"
   ]
  },
  {
   "cell_type": "markdown",
   "metadata": {},
   "source": [
    "정확한 잔차값 $y$을 구하기 방위값이 $0 \\leq \\phi \\leq 2\\pi$ 이도록 고쳐줍니다."
   ]
  },
  {
   "cell_type": "code",
   "execution_count": null,
   "metadata": {},
   "outputs": [],
   "source": [
    "def residual(a, b):\n",
    "    \"\"\" compute residual (a-b) between measurements containing \n",
    "    [range, bearing]. Bearing is normalized to [-pi, pi)\"\"\"\n",
    "    y = a - b\n",
    "    y[1] = y[1] % (2 * np.pi)    # force in range [0, 2 pi)\n",
    "    if y[1] > np.pi:             # move to [-pi, pi)\n",
    "        y[1] -= 2 * np.pi\n",
    "    return y"
   ]
  },
  {
   "cell_type": "code",
   "execution_count": null,
   "metadata": {},
   "outputs": [],
   "source": [
    "from filterpy.stats import plot_covariance_ellipse\n",
    "from math import sqrt, tan, cos, sin, atan2\n",
    "import matplotlib.pyplot as plt\n",
    "\n",
    "dt = 1.0\n",
    "\n",
    "def z_landmark(lmark, sim_pos, std_rng, std_brg):\n",
    "    x, y = sim_pos[0, 0], sim_pos[1, 0]\n",
    "    d = np.sqrt((lmark[0] - x)**2 + (lmark[1] - y)**2)  \n",
    "    a = atan2(lmark[1] - y, lmark[0] - x) - sim_pos[2, 0]\n",
    "    z = np.array([[d + random.randn()*std_rng],\n",
    "                  [a + random.randn()*std_brg]])\n",
    "    return z\n",
    "\n",
    "def ekf_update(ekf, z, landmark):\n",
    "    ekf.update(z, HJacobian = H_of, Hx = Hx, \n",
    "               residual=residual,\n",
    "               args=(landmark), hx_args=(landmark))\n",
    "    \n",
    "                \n",
    "def run_localization(landmarks, std_vel, std_steer, \n",
    "                     std_range, std_bearing,\n",
    "                     step=10, ellipse_step=20, ylim=None):\n",
    "    ekf = RobotEKF(dt, wheelbase=0.5, std_vel=std_vel, \n",
    "                   std_steer=std_steer)\n",
    "    ekf.x = array([[2, 6, .3]]).T # x, y, steer angle\n",
    "    ekf.P = np.diag([.1, .1, .1])\n",
    "    ekf.R = np.diag([std_range**2, std_bearing**2])\n",
    "\n",
    "    sim_pos = ekf.x.copy() # simulated position\n",
    "    # steering command (vel, steering angle radians)\n",
    "    u = array([1.1, .01]) \n",
    "\n",
    "    plt.figure()\n",
    "    plt.scatter(landmarks[:, 0], landmarks[:, 1],\n",
    "                marker='s', s=60)\n",
    "    \n",
    "    track = []\n",
    "    for i in range(200):\n",
    "        sim_pos = ekf.move(sim_pos, u, dt/10.) # simulate robot\n",
    "        track.append(sim_pos)\n",
    "\n",
    "        if i % step == 0:\n",
    "            ekf.predict(u=u)\n",
    "\n",
    "            if i % ellipse_step == 0:\n",
    "                plot_covariance_ellipse(\n",
    "                    (ekf.x[0,0], ekf.x[1,0]), ekf.P[0:2, 0:2], \n",
    "                     std=6, facecolor='k', alpha=0.3)\n",
    "\n",
    "            x, y = sim_pos[0, 0], sim_pos[1, 0]\n",
    "            for lmark in landmarks:\n",
    "                z = z_landmark(lmark, sim_pos,\n",
    "                               std_range, std_bearing)\n",
    "                ekf_update(ekf, z, lmark)\n",
    "\n",
    "            if i % ellipse_step == 0:\n",
    "                plot_covariance_ellipse(\n",
    "                    (ekf.x[0,0], ekf.x[1,0]), ekf.P[0:2, 0:2],\n",
    "                    std=6, facecolor='g', alpha=0.8)\n",
    "    track = np.array(track)\n",
    "    plt.plot(track[:, 0], track[:,1], color='k', lw=2)\n",
    "    plt.axis('equal')\n",
    "    plt.title(\"EKF Robot localization\")\n",
    "    if ylim is not None: plt.ylim(*ylim)\n",
    "    plt.show()\n",
    "    return ekf"
   ]
  },
  {
   "cell_type": "code",
   "execution_count": null,
   "metadata": {},
   "outputs": [],
   "source": [
    "landmarks = array([[5, 10], [10, 5], [15, 15]])\n",
    "\n",
    "ekf = run_localization(\n",
    "    landmarks, std_vel=0.1, std_steer=np.radians(1),\n",
    "    std_range=0.3, std_bearing=0.1)\n",
    "print('Final P:', ekf.P.diagonal())"
   ]
  },
  {
   "cell_type": "markdown",
   "metadata": {},
   "source": [
    "## References\n",
    "\n",
    "* Roger R Labbe, Kalman and Bayesian Filters in Python\n",
    "(https://github.com/rlabbe/Kalman-and-Bayesian-Filters-in-Python/blob/master/11-Extended-Kalman-Filters.ipynb)\n",
    "* https://blog.naver.com/jewdsa813/222200570774"
   ]
  }
 ],
 "metadata": {
  "kernelspec": {
   "display_name": "Python 3",
   "language": "python",
   "name": "python3"
  },
  "language_info": {
   "codemirror_mode": {
    "name": "ipython",
    "version": 3
   },
   "file_extension": ".py",
   "mimetype": "text/x-python",
   "name": "python",
   "nbconvert_exporter": "python",
   "pygments_lexer": "ipython3",
   "version": "3.8.5"
  }
 },
 "nbformat": 4,
 "nbformat_minor": 2
}
